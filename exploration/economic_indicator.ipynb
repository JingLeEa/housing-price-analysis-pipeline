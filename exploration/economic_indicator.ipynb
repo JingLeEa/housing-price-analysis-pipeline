{
 "cells": [
  {
   "cell_type": "code",
   "execution_count": 2,
   "metadata": {},
   "outputs": [
    {
     "name": "stdout",
     "output_type": "stream",
     "text": [
      "Defaulting to user installation because normal site-packages is not writeable\n",
      "Collecting pandas\n",
      "  Downloading pandas-2.2.3-cp39-cp39-macosx_10_9_x86_64.whl (12.6 MB)\n",
      "\u001b[K     |████████████████████████████████| 12.6 MB 643 kB/s eta 0:00:01     |█████▊                          | 2.2 MB 15.7 MB/s eta 0:00:01\n",
      "\u001b[?25hCollecting numpy\n",
      "  Downloading numpy-2.0.2-cp39-cp39-macosx_14_0_x86_64.whl (6.9 MB)\n",
      "\u001b[K     |████████████████████████████████| 6.9 MB 4.3 MB/s eta 0:00:01\n",
      "\u001b[?25hCollecting matplotlib\n",
      "  Downloading matplotlib-3.9.4-cp39-cp39-macosx_10_12_x86_64.whl (7.9 MB)\n",
      "\u001b[K     |████████████████████████████████| 7.9 MB 33.9 MB/s eta 0:00:01\n",
      "\u001b[?25hCollecting seaborn\n",
      "  Downloading seaborn-0.13.2-py3-none-any.whl (294 kB)\n",
      "\u001b[K     |████████████████████████████████| 294 kB 7.7 MB/s eta 0:00:01\n",
      "\u001b[?25hCollecting tzdata>=2022.7\n",
      "  Downloading tzdata-2025.2-py2.py3-none-any.whl (347 kB)\n",
      "\u001b[K     |████████████████████████████████| 347 kB 11.1 MB/s eta 0:00:01\n",
      "\u001b[?25hRequirement already satisfied: python-dateutil>=2.8.2 in /Users/jisu/Library/Python/3.9/lib/python/site-packages (from pandas) (2.9.0.post0)\n",
      "Collecting pytz>=2020.1\n",
      "  Downloading pytz-2025.1-py2.py3-none-any.whl (507 kB)\n",
      "\u001b[K     |████████████████████████████████| 507 kB 25.2 MB/s eta 0:00:01\n",
      "\u001b[?25hCollecting cycler>=0.10\n",
      "  Downloading cycler-0.12.1-py3-none-any.whl (8.3 kB)\n",
      "Collecting pillow>=8\n",
      "  Downloading pillow-11.1.0-cp39-cp39-macosx_10_10_x86_64.whl (3.2 MB)\n",
      "\u001b[K     |████████████████████████████████| 3.2 MB 2.1 MB/s eta 0:00:01\n",
      "\u001b[?25hCollecting kiwisolver>=1.3.1\n",
      "  Downloading kiwisolver-1.4.7-cp39-cp39-macosx_10_9_x86_64.whl (65 kB)\n",
      "\u001b[K     |████████████████████████████████| 65 kB 3.4 MB/s eta 0:00:01\n",
      "\u001b[?25hCollecting pyparsing>=2.3.1\n",
      "  Downloading pyparsing-3.2.1-py3-none-any.whl (107 kB)\n",
      "\u001b[K     |████████████████████████████████| 107 kB 39.7 MB/s eta 0:00:01\n",
      "\u001b[?25hCollecting contourpy>=1.0.1\n",
      "  Downloading contourpy-1.3.0-cp39-cp39-macosx_10_9_x86_64.whl (265 kB)\n",
      "\u001b[K     |████████████████████████████████| 265 kB 21.5 MB/s eta 0:00:01\n",
      "\u001b[?25hRequirement already satisfied: packaging>=20.0 in /Users/jisu/Library/Python/3.9/lib/python/site-packages (from matplotlib) (24.1)\n",
      "Collecting fonttools>=4.22.0\n",
      "  Downloading fonttools-4.56.0-cp39-cp39-macosx_10_9_x86_64.whl (2.3 MB)\n",
      "\u001b[K     |████████████████████████████████| 2.3 MB 6.9 MB/s eta 0:00:01\n",
      "\u001b[?25hCollecting importlib-resources>=3.2.0\n",
      "  Downloading importlib_resources-6.5.2-py3-none-any.whl (37 kB)\n",
      "Requirement already satisfied: zipp>=3.1.0 in /Users/jisu/Library/Python/3.9/lib/python/site-packages (from importlib-resources>=3.2.0->matplotlib) (3.20.1)\n",
      "Requirement already satisfied: six>=1.5 in /Library/Developer/CommandLineTools/Library/Frameworks/Python3.framework/Versions/3.9/lib/python3.9/site-packages (from python-dateutil>=2.8.2->pandas) (1.15.0)\n",
      "Installing collected packages: numpy, tzdata, pytz, pyparsing, pillow, kiwisolver, importlib-resources, fonttools, cycler, contourpy, pandas, matplotlib, seaborn\n",
      "Successfully installed contourpy-1.3.0 cycler-0.12.1 fonttools-4.56.0 importlib-resources-6.5.2 kiwisolver-1.4.7 matplotlib-3.9.4 numpy-2.0.2 pandas-2.2.3 pillow-11.1.0 pyparsing-3.2.1 pytz-2025.1 seaborn-0.13.2 tzdata-2025.2\n",
      "\u001b[33mWARNING: You are using pip version 21.2.4; however, version 25.0.1 is available.\n",
      "You should consider upgrading via the '/Library/Developer/CommandLineTools/usr/bin/python3 -m pip install --upgrade pip' command.\u001b[0m\n",
      "Note: you may need to restart the kernel to use updated packages.\n"
     ]
    }
   ],
   "source": [
    "pip install pandas numpy matplotlib seaborn\n"
   ]
  },
  {
   "cell_type": "code",
   "execution_count": 3,
   "metadata": {},
   "outputs": [
    {
     "name": "stderr",
     "output_type": "stream",
     "text": [
      "Matplotlib is building the font cache; this may take a moment.\n"
     ]
    }
   ],
   "source": [
    "import pandas as pd\n",
    "import numpy as np\n",
    "import os\n",
    "import matplotlib.pyplot as plt\n",
    "import seaborn as sns\n",
    "\n",
    "plt.style.use(\"ggplot\")\n",
    "sns.set(font_scale=1.2)"
   ]
  },
  {
   "cell_type": "code",
   "execution_count": 5,
   "metadata": {},
   "outputs": [],
   "source": [
    "folder_path = \"/Users/jisu/Library/Mobile Documents/com~apple~CloudDocs/Desktop/project\"\n"
   ]
  },
  {
   "cell_type": "code",
   "execution_count": 10,
   "metadata": {},
   "outputs": [],
   "source": [
    "file_names = [\n",
    "    \"exchange rate,monthly.json\",\n",
    "    \"Key Indicators On Household Employment Income Among Resident Employed Households, Annual.json\",\n",
    "    \"Median Gross Monthly Income From Employment (Including Employer CPF) Of Full-Time Employed Residents By Occupations And Sex, End June, Annual.json\",\n",
    "    \"Resident Households by Monthly Household Income from Work and Number of Employed Persons in Household (Census of Population 2020).json\",\n",
    "    \"unemploymentrate_season.json\",\n",
    "    \"interest rate.json\",\n",
    "    \"Resident Households by Monthly Household Income from Work and Type of Dwelling (Census of Population 2020).json\",\n",
    "    \"Consumer Price Index (CPI), 2024 As Base Year, Monthly, Seasonally Adjusted.json\",\n",
    "    \"Percent Change In Consumer Price Index (CPI) Over Corresponding Period Of Previous Year, 2024 As Base Year, Annual.json\",\n",
    "    \"Consumer Price Index (CPI) By Household Income Group, Middle 60%, 2019 As Base Year, Annual.json\"\n",
    "]\n"
   ]
  },
  {
   "cell_type": "code",
   "execution_count": 17,
   "metadata": {},
   "outputs": [
    {
     "name": "stdout",
     "output_type": "stream",
     "text": [
      "file: exchange rate,monthly.json\n",
      "Dictionary\n",
      "Top-level keys: ['row', 'ID', 'Title', 'Footnote', 'DataSource', 'frequency', 'GeneratedBy', 'DataLastUpdated', 'DateGenerated', 'Contact']\n",
      "================================================================================\n",
      "file: Key Indicators On Household Employment Income Among Resident Employed Households, Annual.json\n",
      "Dictionary\n",
      "Top-level keys: ['row', 'ID', 'Title', 'Footnote', 'DataSource', 'frequency', 'GeneratedBy', 'DataLastUpdated', 'DateGenerated', 'Contact']\n",
      "================================================================================\n",
      "file: Median Gross Monthly Income From Employment (Including Employer CPF) Of Full-Time Employed Residents By Occupations And Sex, End June, Annual.json\n",
      "Dictionary\n",
      "Top-level keys: ['row', 'ID', 'Title', 'Footnote', 'DataSource', 'frequency', 'GeneratedBy', 'DataLastUpdated', 'DateGenerated', 'Contact']\n",
      "================================================================================\n",
      "file: Resident Households by Monthly Household Income from Work and Number of Employed Persons in Household (Census of Population 2020).json\n",
      "Dictionary\n",
      "Top-level keys: ['row', 'ID', 'Title', 'footnote', 'dataSource', 'frequencyType', 'GeneratedBy', 'DataLastUpdated', 'DateGenerated', 'Contact']\n",
      "================================================================================\n",
      "file: unemploymentrate_season.json\n",
      "Dictionary\n",
      "Top-level keys: ['row', 'ID', 'Title', 'Footnote', 'DataSource', 'frequency', 'GeneratedBy', 'DataLastUpdated', 'DateGenerated', 'Contact']\n",
      "================================================================================\n",
      "file: interest rate.json\n",
      "Dictionary\n",
      "Top-level keys: ['row', 'ID', 'Title', 'Footnote', 'DataSource', 'frequency', 'GeneratedBy', 'DataLastUpdated', 'DateGenerated', 'Contact']\n",
      "================================================================================\n",
      "file: Resident Households by Monthly Household Income from Work and Type of Dwelling (Census of Population 2020).json\n",
      "Dictionary\n",
      "Top-level keys: ['row', 'ID', 'Title', 'footnote', 'dataSource', 'frequencyType', 'GeneratedBy', 'DataLastUpdated', 'DateGenerated', 'Contact']\n",
      "================================================================================\n",
      "file: Consumer Price Index (CPI), 2024 As Base Year, Monthly, Seasonally Adjusted.json\n",
      "Dictionary\n",
      "Top-level keys: ['row', 'ID', 'Title', 'Footnote', 'DataSource', 'frequency', 'GeneratedBy', 'DataLastUpdated', 'DateGenerated', 'Contact']\n",
      "================================================================================\n",
      "file: Percent Change In Consumer Price Index (CPI) Over Corresponding Period Of Previous Year, 2024 As Base Year, Annual.json\n",
      "Dictionary\n",
      "Top-level keys: ['row', 'ID', 'Title', 'Footnote', 'DataSource', 'frequency', 'GeneratedBy', 'DataLastUpdated', 'DateGenerated', 'Contact']\n",
      "================================================================================\n",
      "file: Consumer Price Index (CPI) By Household Income Group, Middle 60%, 2019 As Base Year, Annual.json\n",
      "Dictionary\n",
      "Top-level keys: ['row', 'ID', 'Title', 'Footnote', 'DataSource', 'frequency', 'GeneratedBy', 'DataLastUpdated', 'DateGenerated', 'Contact']\n",
      "================================================================================\n"
     ]
    }
   ],
   "source": [
    "import json\n",
    "import pandas as pd\n",
    "import os\n",
    "\n",
    "for file_name in file_names:\n",
    "    file_path = os.path.join(folder_path, file_name)\n",
    "    \n",
    "    try:\n",
    "        with open(file_path, \"r\", encoding=\"utf-8\") as f:\n",
    "            data = json.load(f)\n",
    "\n",
    "        print(f\"file: {file_name}\")\n",
    "\n",
    "        if isinstance(data, dict):\n",
    "            print(\"Dictionary\")\n",
    "            print(\"Top-level keys:\", list(data.keys()))\n",
    "\n",
    "        elif isinstance(data, list):\n",
    "            print(\"List\")\n",
    "            df = pd.DataFrame(data)\n",
    "            print(df.info())\n",
    "            print(df.head())\n",
    "\n",
    "        print(\"=\" * 80)\n",
    "\n",
    "    except Exception as e:\n",
    "        print(f\"{e}\")\n"
   ]
  },
  {
   "cell_type": "code",
   "execution_count": 34,
   "metadata": {},
   "outputs": [],
   "source": [
    "import pandas as pd\n",
    "import os\n",
    "\n",
    "folder_path = \"/Users/jisu/Library/Mobile Documents/com~apple~CloudDocs/Desktop/project\"\n",
    "\n",
    "monthly_files = [\n",
    "    \"Exchange Rates (Average For Period), Monthly.json\",\n",
    "    \"Current Banks Interest Rates (End Of Period), Monthly.json\",\n",
    "    \"Consumer Price Index (CPI), 2024 As Base Year, Monthly, Seasonally Adjusted.json\"\n",
    "]\n",
    "\n",
    "dataframes = []\n",
    "\n",
    "def parse_json(file_path, source):\n",
    "    with open(file_path, \"r\") as f:\n",
    "        data = pd.read_json(f)\n",
    "    \n",
    "    if \"row\" in data:\n",
    "        data = pd.json_normalize(data[\"row\"], \"columns\")\n",
    "    \n",
    "    df = pd.DataFrame(data)\n",
    "    df.columns = [\"Date\", \"Value\"]\n",
    "    df[\"Year\"] = df[\"Date\"].apply(lambda x: int(x.split(\" \")[0]))\n",
    "    df[\"Month\"] = df[\"Date\"].apply(lambda x: x.split(\" \")[1])\n",
    "    df[\"Source\"] = source\n",
    "    return df\n",
    "\n",
    "for file in monthly_files:\n",
    "    file_path = os.path.join(folder_path, file)\n",
    "    source = file.split(\".\")[0]\n",
    "    df = parse_json(file_path, source)\n",
    "    dataframes.append(df)\n",
    "\n",
    "df_combined = pd.concat(dataframes, ignore_index=True)\n",
    "df_combined = df_combined.sort_values(by=[\"Year\", \"Month\"])\n"
   ]
  },
  {
   "cell_type": "code",
   "execution_count": 37,
   "metadata": {},
   "outputs": [
    {
     "name": "stdout",
     "output_type": "stream",
     "text": [
      "           Date    Value  Year Month  \\\n",
      "8008   1961 Apr   20.924  1961   Apr   \n",
      "8777   1961 Apr    18.38  1961   Apr   \n",
      "12377  1961 Apr   56.423  1961   Apr   \n",
      "13628  1961 Apr   23.256  1961   Apr   \n",
      "14879  1961 Apr   28.173  1961   Apr   \n",
      "17094  1961 Apr   16.178  1961   Apr   \n",
      "19068  1961 Apr   15.164  1961   Apr   \n",
      "20801  1961 Apr  153.546  1961   Apr   \n",
      "22293  1961 Apr   28.284  1961   Apr   \n",
      "24749  1961 Apr   13.774  1961   Apr   \n",
      "\n",
      "                                                  Source  \n",
      "8008   Consumer Price Index (CPI), 2024 As Base Year,...  \n",
      "8777   Consumer Price Index (CPI), 2024 As Base Year,...  \n",
      "12377  Consumer Price Index (CPI), 2024 As Base Year,...  \n",
      "13628  Consumer Price Index (CPI), 2024 As Base Year,...  \n",
      "14879  Consumer Price Index (CPI), 2024 As Base Year,...  \n",
      "17094  Consumer Price Index (CPI), 2024 As Base Year,...  \n",
      "19068  Consumer Price Index (CPI), 2024 As Base Year,...  \n",
      "20801  Consumer Price Index (CPI), 2024 As Base Year,...  \n",
      "22293  Consumer Price Index (CPI), 2024 As Base Year,...  \n",
      "24749  Consumer Price Index (CPI), 2024 As Base Year,...  \n"
     ]
    }
   ],
   "source": [
    "import pandas as pd\n",
    "\n",
    "print(df_combined.head(10))\n",
    "\n"
   ]
  },
  {
   "cell_type": "code",
   "execution_count": 42,
   "metadata": {},
   "outputs": [],
   "source": [
    "import pandas as pd\n",
    "import os\n",
    "\n",
    "folder_path = \"/Users/jisu/Library/Mobile Documents/com~apple~CloudDocs/Desktop/project\"\n",
    "\n",
    "monthly_files = {\n",
    "    \"Exchange Rates (Average For Period), Monthly.json\": \"Exchange Rate (SGD/USD)\",\n",
    "    \"Current Banks Interest Rates (End Of Period), Monthly.json\": \"Interest Rate (%)\",\n",
    "    \"Consumer Price Index (CPI), 2024 As Base Year, Monthly, Seasonally Adjusted.json\": \"CPI (2024 Base)\"\n",
    "}\n",
    "\n",
    "dataframes = []\n",
    "\n",
    "def parse_json(file_path, column_name):\n",
    "    with open(file_path, \"r\") as f:\n",
    "        data = pd.read_json(f)\n",
    "    \n",
    "    if \"row\" in data:\n",
    "        data = pd.json_normalize(data[\"row\"], \"columns\")\n",
    "    \n",
    "    df = pd.DataFrame(data)\n",
    "    df.columns = [\"Month\", \"Value\"]\n",
    "    df[column_name] = pd.to_numeric(df[\"Value\"], errors='coerce')\n",
    "    df = df.drop(columns=[\"Value\"])\n",
    "    return df\n",
    "\n",
    "for file, column_name in monthly_files.items():\n",
    "    file_path = os.path.join(folder_path, file)\n",
    "    df = parse_json(file_path, column_name)\n",
    "    dataframes.append(df)\n",
    "\n",
    "df_combined = dataframes[0]\n",
    "for df in dataframes[1:]:\n",
    "    df_combined = pd.merge(df_combined, df, on=\"Month\", how=\"outer\")\n"
   ]
  },
  {
   "cell_type": "code",
   "execution_count": 43,
   "metadata": {},
   "outputs": [
    {
     "name": "stdout",
     "output_type": "stream",
     "text": [
      "      Month  Exchange Rate (SGD/USD)  Interest Rate (%)  CPI (2024 Base)\n",
      "0  1961 Apr                      NaN                NaN           20.924\n",
      "1  1961 Apr                      NaN                NaN           18.380\n",
      "2  1961 Apr                      NaN                NaN           56.423\n",
      "3  1961 Apr                      NaN                NaN           23.256\n",
      "4  1961 Apr                      NaN                NaN           28.173\n",
      "5  1961 Apr                      NaN                NaN           16.178\n",
      "6  1961 Apr                      NaN                NaN           15.164\n",
      "7  1961 Apr                      NaN                NaN          153.546\n",
      "8  1961 Apr                      NaN                NaN           28.284\n",
      "9  1961 Apr                      NaN                NaN           13.774\n"
     ]
    }
   ],
   "source": [
    "import pandas as pd\n",
    "\n",
    "print(df_combined.head(10))"
   ]
  },
  {
   "cell_type": "code",
   "execution_count": 44,
   "metadata": {},
   "outputs": [],
   "source": [
    "import pandas as pd\n",
    "import os\n",
    "\n",
    "folder_path = \"/Users/jisu/Library/Mobile Documents/com~apple~CloudDocs/Desktop/project\"\n",
    "\n",
    "quarterly_files = {\n",
    "    \"Unemployment Rate (End Of Period), Quarterly, Seasonally Adjusted.json\": \"Unemployment Rate (%)\"\n",
    "}\n",
    "\n",
    "dataframes = []\n",
    "\n",
    "def parse_quarterly_json(file_path, column_name):\n",
    "    with open(file_path, \"r\") as f:\n",
    "        data = pd.read_json(f)\n",
    "    \n",
    "    if \"row\" in data:\n",
    "        data = pd.json_normalize(data[\"row\"], \"columns\")\n",
    "    \n",
    "    df = pd.DataFrame(data)\n",
    "    df.columns = [\"Quarter\", \"Value\"]\n",
    "    df[column_name] = pd.to_numeric(df[\"Value\"], errors='coerce')\n",
    "    df = df.drop(columns=[\"Value\"])\n",
    "    df[\"Year\"] = df[\"Quarter\"].apply(lambda x: int(x.split(\" \")[0]))\n",
    "    df[\"Quarter\"] = df[\"Quarter\"].apply(lambda x: x.split(\" \")[1])\n",
    "    return df\n",
    "\n",
    "for file, column_name in quarterly_files.items():\n",
    "    file_path = os.path.join(folder_path, file)\n",
    "    df = parse_quarterly_json(file_path, column_name)\n",
    "    dataframes.append(df)\n",
    "\n",
    "df_quarterly_combined = dataframes[0]\n",
    "for df in dataframes[1:]:\n",
    "    df_quarterly_combined = pd.merge(df_quarterly_combined, df, on=[\"Year\", \"Quarter\"], how=\"outer\")\n"
   ]
  },
  {
   "cell_type": "code",
   "execution_count": 45,
   "metadata": {},
   "outputs": [
    {
     "name": "stdout",
     "output_type": "stream",
     "text": [
      "  Quarter  Unemployment Rate (%)  Year\n",
      "0      1Q                    1.8  1992\n",
      "1      2Q                    1.8  1992\n",
      "2      3Q                    2.0  1992\n",
      "3      4Q                    1.6  1992\n",
      "4      1Q                    1.5  1993\n",
      "5      2Q                    1.8  1993\n",
      "6      3Q                    1.8  1993\n",
      "7      4Q                    1.6  1993\n",
      "8      1Q                    1.7  1994\n",
      "9      2Q                    1.6  1994\n"
     ]
    }
   ],
   "source": [
    "import pandas as pd\n",
    "\n",
    "print(df_quarterly_combined.head(10))"
   ]
  },
  {
   "cell_type": "code",
   "execution_count": 51,
   "metadata": {},
   "outputs": [
    {
     "name": "stdout",
     "output_type": "stream",
     "text": [
      " /Users/jisu/Library/Mobile Documents/com~apple~CloudDocs/Desktop/project/merged_data.csv\n"
     ]
    }
   ],
   "source": [
    "import pandas as pd\n",
    "import os\n",
    "import json\n",
    "\n",
    "folder_path = \"/Users/jisu/Library/Mobile Documents/com~apple~CloudDocs/Desktop/project\"\n",
    "\n",
    "file_names = {\n",
    "    \"household_income\": \"Key Indicators On Household Employment Income Among Resident Employed Households, Annual.json\",\n",
    "    \"individual_income\": \"Median Gross Monthly Income From Employment (Including Employer CPF) Of Full-Time Employed Residents By Occupations And Sex, End June, Annual.json\",\n",
    "    \"cpi_change\": \"Percent Change In Consumer Price Index (CPI) Over Corresponding Period Of Previous Year, 2024 As Base Year, Annual.json\",\n",
    "    \"middle_60_cpi\": \"Consumer Price Index (CPI) By Household Income Group, Middle 60%, 2019 As Base Year, Annual.json\"\n",
    "}\n",
    "\n",
    "def fast_extract_json(file_path, value_name):\n",
    "    with open(file_path, \"r\", encoding=\"utf-8\") as file:\n",
    "        data = json.load(file)\n",
    "    \n",
    "    extracted_data = [{\"Year\": int(col[\"Key\"]), value_name: float(col[\"Value\"])}\n",
    "                      for row in data[\"row\"] for col in row[\"columns\"]]\n",
    "    \n",
    "    return pd.DataFrame(extracted_data)\n",
    "\n",
    "household_income = fast_extract_json(os.path.join(folder_path, file_names[\"household_income\"]), \"Median_Household_Income\")\n",
    "individual_income = fast_extract_json(os.path.join(folder_path, file_names[\"individual_income\"]), \"Median_Individual_Income\")\n",
    "cpi_change = fast_extract_json(os.path.join(folder_path, file_names[\"cpi_change\"]), \"CPI_Change\")\n",
    "middle_60_cpi = fast_extract_json(os.path.join(folder_path, file_names[\"middle_60_cpi\"]), \"CPI_Middle_60\")\n",
    "\n",
    "dfs = [household_income, individual_income, cpi_change, middle_60_cpi]\n",
    "\n",
    "for df in dfs:\n",
    "    df.drop_duplicates(subset=\"Year\", keep=\"first\", inplace=True)\n",
    "\n",
    "merged_data = dfs[0]\n",
    "for df in dfs[1:]:\n",
    "    merged_data = merged_data.merge(df, on=\"Year\", how=\"outer\")\n",
    "\n",
    "merged_data.sort_values(by=\"Year\", inplace=True)\n",
    "merged_data.interpolate(method=\"linear\", inplace=True)\n",
    "\n",
    "output_path = os.path.join(folder_path, \"merged_data.csv\")\n",
    "merged_data.to_csv(output_path, index=False)\n",
    "\n",
    "print(f\" {output_path}\")\n"
   ]
  },
  {
   "cell_type": "code",
   "execution_count": 55,
   "metadata": {},
   "outputs": [
    {
     "name": "stdout",
     "output_type": "stream",
     "text": [
      " /Users/jisu/Library/Mobile Documents/com~apple~CloudDocs/Desktop/project/cpi_categories.csv\n",
      "     Year       Category  CPI_Index\n",
      "391  2014  Accommodation    116.396\n",
      "392  2015  Accommodation    113.461\n",
      "393  2016  Accommodation    109.340\n",
      "394  2017  Accommodation    104.722\n",
      "395  2018  Accommodation    101.162\n"
     ]
    }
   ],
   "source": [
    "import pandas as pd\n",
    "import os\n",
    "import json\n",
    "\n",
    "folder_path = \"/Users/jisu/Library/Mobile Documents/com~apple~CloudDocs/Desktop/project\"\n",
    "cpi_file = \"Consumer Price Index (CPI) By Household Income Group, Middle 60%, 2019 As Base Year, Annual.json\"\n",
    "\n",
    "with open(os.path.join(folder_path, cpi_file), \"r\", encoding=\"utf-8\") as file:\n",
    "    raw_data = json.load(file)\n",
    "\n",
    "def extract_cpi_categories(data):\n",
    "    cpi_records = []\n",
    "    \n",
    "    for category in data[\"row\"]:\n",
    "        category_name = category[\"rowText\"]\n",
    "        for entry in category[\"columns\"]:\n",
    "            year = int(entry[\"Key\"])\n",
    "            value = float(entry[\"Value\"])\n",
    "            cpi_records.append({\"Year\": year, \"Category\": category_name, \"CPI_Index\": value})\n",
    "    \n",
    "    return pd.DataFrame(cpi_records)\n",
    "\n",
    "cpi_df = extract_cpi_categories(raw_data)\n",
    "\n",
    "cpi_df.sort_values([\"Category\", \"Year\"], inplace=True)\n",
    "\n",
    "cpi_df[\"Year\"] = cpi_df[\"Year\"].astype(int)\n",
    "\n",
    "cpi_df[\"CPI_Index\"] = (\n",
    "    cpi_df.groupby(\"Category\")[\"CPI_Index\"]\n",
    "    .apply(lambda x: x.interpolate(method=\"linear\", limit_direction=\"both\"))\n",
    "    .reset_index(level=0, drop=True)\n",
    ")\n",
    "\n",
    "output_file = os.path.join(folder_path, \"cpi_categories.csv\")\n",
    "cpi_df.to_csv(output_file, index=False)\n",
    "\n",
    "print(\"\", output_file)\n",
    "\n",

    "print(cpi_df.head())\n"
   ]
  },
  {
   "cell_type": "code",
   "execution_count": 57,
   "metadata": {},
   "outputs": [
    {
     "data": {
      "image/png": "[encoded data removed]",
      "text/plain": [
       "<Figure size 1000x600 with 2 Axes>"
      ]
     },
     "metadata": {},
     "output_type": "display_data"
    }
   ],
   "source": [
    "import pandas as pd\n",
    "import os\n",
    "import matplotlib.pyplot as plt\n",
    "import seaborn as sns\n",
    "\n",
    "folder_path = \"/Users/jisu/Library/Mobile Documents/com~apple~CloudDocs/Desktop/project\"\n",
    "\n",
    "file_path = os.path.join(folder_path, \"merged_data.csv\")\n",
    "df = pd.read_csv(file_path)\n",
    "\n",
    "df = df.drop(columns=[\"Year\"], errors=\"ignore\")\n",
    "\n",
    "for col in df.columns:\n",
    "    try:\n",
    "        df[col] = df[col].astype(float)\n",
    "    except ValueError:\n",
    "        pass\n",
    "\n",
    "correlation_matrix = df.corr()\n",
    "\n",
    "correlation_file = os.path.join(folder_path, \"correlation_matrix_no_year.csv\")\n",
    "correlation_matrix.to_csv(correlation_file, index=True)\n",
    "\n",
    "plt.figure(figsize=(10, 6))\n",
    "sns.heatmap(correlation_matrix, annot=True, fmt=\".2f\", cmap=\"coolwarm\", linewidths=0.5)\n",
    "plt.title(\"Correlation Matrix Heatmap (Without Year)\")\n",
    "plt.xticks(rotation=45)\n",
    "plt.yticks(rotation=0)\n",
    "plt.tight_layout()\n",
    "\n",
    "heatmap_path = os.path.join(folder_path, \"correlation_heatmap_no_year.png\")\n",
    "plt.savefig(heatmap_path)\n",
    "plt.show()\n"
   ]
  }
 ],
 "metadata": {
  "kernelspec": {
   "display_name": "Python 3",
   "language": "python",
   "name": "python3"
  },
  "language_info": {
   "codemirror_mode": {
    "name": "ipython",
    "version": 3
   },
   "file_extension": ".py",
   "mimetype": "text/x-python",
   "name": "python",
   "nbconvert_exporter": "python",
   "pygments_lexer": "ipython3",
   "version": "3.9.6"
  }
 },
 "nbformat": 4,
 "nbformat_minor": 2
}
